{
 "cells": [
  {
   "cell_type": "markdown",
   "metadata": {},
   "source": [
    "# Imports"
   ]
  },
  {
   "cell_type": "code",
   "execution_count": 1,
   "metadata": {},
   "outputs": [],
   "source": [
    "from sklearn import preprocessing, neighbors, naive_bayes, neural_network, svm, tree\n",
    "from sklearn.metrics import confusion_matrix,  roc_curve, auc\n",
    "from sklearn.model_selection import KFold, StratifiedKFold\n",
    "from sklearn.ensemble import AdaBoostClassifier, BaggingClassifier, VotingClassifier\n",
    "from sklearn.decomposition import PCA\n",
    "from scipy import interp\n",
    "import numpy as np\n",
    "import pandas as pd\n",
    "import matplotlib.pyplot as plt\n",
    "from IPython.display import HTML, display\n",
    "import tabulate\n",
    "from sklearn.model_selection import cross_validate"
   ]
  },
  {
   "cell_type": "markdown",
   "metadata": {},
   "source": [
    "# Reading Data"
   ]
  },
  {
   "cell_type": "code",
   "execution_count": 2,
   "metadata": {},
   "outputs": [
    {
     "name": "stdout",
     "output_type": "stream",
     "text": [
      "     gender      PPE      DFA     RPDE  numPulses  numPeriodsPulses  \\\n",
      "0         1  0.85247  0.71826  0.57227        240               239   \n",
      "1         1  0.76686  0.69481  0.53966        234               233   \n",
      "2         1  0.85083  0.67604  0.58982        232               231   \n",
      "3         0  0.41121  0.79672  0.59257        178               177   \n",
      "4         0  0.32790  0.79782  0.53028        236               235   \n",
      "..      ...      ...      ...      ...        ...               ...   \n",
      "751       0  0.80903  0.56355  0.28385        417               416   \n",
      "752       0  0.16084  0.56499  0.59194        415               413   \n",
      "753       0  0.88389  0.72335  0.46815        381               380   \n",
      "754       0  0.83782  0.74890  0.49823        340               339   \n",
      "755       0  0.81304  0.76471  0.46374        340               339   \n",
      "\n",
      "     meanPeriodPulses  stdDevPeriodPulses  locPctJitter  locAbsJitter  ...  \\\n",
      "0            0.008064            0.000087       0.00218      0.000018  ...   \n",
      "1            0.008258            0.000073       0.00195      0.000016  ...   \n",
      "2            0.008340            0.000060       0.00176      0.000015  ...   \n",
      "3            0.010858            0.000183       0.00419      0.000046  ...   \n",
      "4            0.008162            0.002669       0.00535      0.000044  ...   \n",
      "..                ...                 ...           ...           ...  ...   \n",
      "751          0.004627            0.000052       0.00064      0.000003  ...   \n",
      "752          0.004550            0.000220       0.00143      0.000006  ...   \n",
      "753          0.005069            0.000103       0.00076      0.000004  ...   \n",
      "754          0.005679            0.000055       0.00092      0.000005  ...   \n",
      "755          0.005676            0.000037       0.00078      0.000004  ...   \n",
      "\n",
      "     tqwt_kurtosisValue_dec_28  tqwt_kurtosisValue_dec_29  \\\n",
      "0                       1.5620                     2.6445   \n",
      "1                       1.5589                     3.6107   \n",
      "2                       1.5643                     2.3308   \n",
      "3                       3.7805                     3.5664   \n",
      "4                       6.1727                     5.8416   \n",
      "..                         ...                        ...   \n",
      "751                     3.0706                     3.0190   \n",
      "752                     1.9704                     1.7451   \n",
      "753                    51.5607                    44.4641   \n",
      "754                    19.1607                    12.8312   \n",
      "755                    62.9927                    21.8152   \n",
      "\n",
      "     tqwt_kurtosisValue_dec_30  tqwt_kurtosisValue_dec_31  \\\n",
      "0                       3.8686                     4.2105   \n",
      "1                      23.5155                    14.1962   \n",
      "2                       9.4959                    10.7458   \n",
      "3                       5.2558                    14.0403   \n",
      "4                       6.0805                     5.7621   \n",
      "..                         ...                        ...   \n",
      "751                     3.1212                     2.4921   \n",
      "752                     1.8277                     2.4976   \n",
      "753                    26.1586                     6.3076   \n",
      "754                     8.9434                     2.2044   \n",
      "755                     9.2457                     4.8555   \n",
      "\n",
      "     tqwt_kurtosisValue_dec_32  tqwt_kurtosisValue_dec_33  \\\n",
      "0                       5.1221                     4.4625   \n",
      "1                      11.0261                     9.5082   \n",
      "2                      11.0177                     4.8066   \n",
      "3                       4.2235                     4.6857   \n",
      "4                       7.7817                    11.6891   \n",
      "..                         ...                        ...   \n",
      "751                     3.5844                     3.5400   \n",
      "752                     5.2981                     4.2616   \n",
      "753                     2.8601                     2.5361   \n",
      "754                     1.9496                     1.9664   \n",
      "755                     3.0551                     3.0415   \n",
      "\n",
      "     tqwt_kurtosisValue_dec_34  tqwt_kurtosisValue_dec_35  \\\n",
      "0                       2.6202                     3.0004   \n",
      "1                       6.5245                     6.3431   \n",
      "2                       2.9199                     3.1495   \n",
      "3                       4.8460                     6.2650   \n",
      "4                       8.2103                     5.0559   \n",
      "..                         ...                        ...   \n",
      "751                     3.3805                     3.2003   \n",
      "752                     6.3042                    10.9058   \n",
      "753                     3.5377                     3.3545   \n",
      "754                     2.6801                     2.8332   \n",
      "755                     4.0116                     2.6217   \n",
      "\n",
      "     tqwt_kurtosisValue_dec_36  class  \n",
      "0                      18.9405      1  \n",
      "1                      45.1780      1  \n",
      "2                       4.7666      1  \n",
      "3                       4.0603      1  \n",
      "4                       6.1164      1  \n",
      "..                         ...    ...  \n",
      "751                     6.8671      0  \n",
      "752                    28.4170      0  \n",
      "753                     5.0424      0  \n",
      "754                     3.7131      0  \n",
      "755                     3.1527      0  \n",
      "\n",
      "[756 rows x 754 columns]\n"
     ]
    },
    {
     "name": "stderr",
     "output_type": "stream",
     "text": [
      "C:\\Users\\DLK\\AppData\\Local\\Temp\\ipykernel_3824\\3097422731.py:3: FutureWarning: In a future version of pandas all arguments of DataFrame.drop except for the argument 'labels' will be keyword-only.\n",
      "  df.drop(['id'], 1, inplace=True)\n"
     ]
    }
   ],
   "source": [
    "import pandas as pd\n",
    "df = pd.read_csv(r'F:\\2nd page\\72. Machine Learning Approaches for Detection and Diagnosis of Parkinson’s Disease\\Source codeS\\Data/pd_speech_features.txt')\n",
    "df.drop(['id'], 1, inplace=True)\n",
    "print(df)"
   ]
  },
  {
   "cell_type": "code",
   "execution_count": 3,
   "metadata": {},
   "outputs": [
    {
     "name": "stderr",
     "output_type": "stream",
     "text": [
      "C:\\Users\\DLK\\AppData\\Local\\Temp\\ipykernel_3824\\715816409.py:2: FutureWarning: In a future version of pandas all arguments of DataFrame.drop except for the argument 'labels' will be keyword-only.\n",
      "  X = np.array(df.drop(['class'], 1))\n"
     ]
    }
   ],
   "source": [
    "import numpy as np\n",
    "X = np.array(df.drop(['class'], 1))\n",
    "y = np.array(df['class'])"
   ]
  },
  {
   "cell_type": "markdown",
   "metadata": {},
   "source": [
    "# Normalizing Data"
   ]
  },
  {
   "cell_type": "code",
   "execution_count": 4,
   "metadata": {},
   "outputs": [],
   "source": [
    "Z = np.divide((X - X.mean(0)), X.std(0))"
   ]
  },
  {
   "cell_type": "markdown",
   "metadata": {},
   "source": [
    "# PCA"
   ]
  },
  {
   "cell_type": "code",
   "execution_count": 5,
   "metadata": {},
   "outputs": [],
   "source": [
    "from sklearn.decomposition import PCA\n",
    "pca = PCA(n_components = 168)\n",
    "Z_PCA = pca.fit_transform(Z)"
   ]
  },
  {
   "cell_type": "code",
   "execution_count": 6,
   "metadata": {},
   "outputs": [
    {
     "name": "stdout",
     "output_type": "stream",
     "text": [
      "(756, 168)\n"
     ]
    }
   ],
   "source": [
    "print(Z_PCA.shape)"
   ]
  },
  {
   "cell_type": "markdown",
   "metadata": {},
   "source": [
    "# Building the models"
   ]
  },
  {
   "cell_type": "code",
   "execution_count": 7,
   "metadata": {},
   "outputs": [],
   "source": [
    "# KNN\n",
    "from sklearn import neighbors, naive_bayes,svm,neural_network,tree\n",
    "from sklearn.ensemble import AdaBoostClassifier, BaggingClassifier,VotingClassifier\n",
    "# knn1 = neighbors.KNeighborsClassifier(n_neighbors=7)\n",
    "knn = neighbors.KNeighborsClassifier(n_neighbors=5)\n",
    "\n",
    "# Naive Bayes\n",
    "gnb = naive_bayes.GaussianNB()\n",
    "gnb_bagging = BaggingClassifier(naive_bayes.GaussianNB(), max_samples = 0.5, max_features = 1.0, n_estimators = 20)\n",
    "\n",
    "# Support Vector Machine\n",
    "svmc = svm.SVC(kernel='linear', probability=True,\n",
    "                     random_state=1)\n",
    "\n",
    "# Neural Network\n",
    "nn = neural_network.MLPClassifier(\n",
    "#                                     activation = 'logistic', \n",
    "#                                    solver = 'sgd', \n",
    "#                                    max_iter=3000, \n",
    "#                                    learning_rate_init = 0.001, \n",
    "#                                    momentum = 0.9, \n",
    "#                                    epsilon = 1e-04, \n",
    "                                   hidden_layer_sizes = (200), \n",
    "                                   random_state = 42)\n",
    "# Decision Tree\n",
    "dt = tree.DecisionTreeClassifier(random_state = 42)\n",
    "dt_boost = AdaBoostClassifier(random_state = 42, base_estimator=tree.DecisionTreeClassifier(random_state = 42, max_depth=1), n_estimators= 100, learning_rate = 1)\n",
    "boost = AdaBoostClassifier(n_estimators= 100)\n",
    "vote = VotingClassifier(estimators=[('dt', dt_boost), ('knn', knn), ('nn', nn), ('gnb', gnb)],\n",
    "                          voting='soft', weights=[1, 1, 1, 1])\n"
   ]
  },
  {
   "cell_type": "markdown",
   "metadata": {},
   "source": [
    "# Testing using cross validation"
   ]
  },
  {
   "cell_type": "code",
   "execution_count": 8,
   "metadata": {},
   "outputs": [],
   "source": [
    "# from sklearn.model_selection import KFold, StratifiedKFold\n",
    "\n",
    "# model = knn\n",
    "# scores = cross_validate.cross_val_score(model, Z, y, cv=5, scoring='accuracy')\n",
    "# y_pred = cross_validate.cross_val_predict(model, Z, y, cv=5)\n",
    "\n",
    "# acc = scores.mean()\n",
    "# conf_mat = confusion_matrix(y, y_pred)"
   ]
  },
  {
   "cell_type": "code",
   "execution_count": 9,
   "metadata": {},
   "outputs": [],
   "source": [
    "#print(acc)\n",
    "# print(conf_mat)"
   ]
  },
  {
   "cell_type": "markdown",
   "metadata": {},
   "source": [
    "## Accuracy, ROC/AUC, and confuson matrix"
   ]
  },
  {
   "cell_type": "code",
   "execution_count": 10,
   "metadata": {},
   "outputs": [
    {
     "name": "stderr",
     "output_type": "stream",
     "text": [
      "C:\\Users\\DLK\\AppData\\Local\\Temp\\ipykernel_3824\\3993714666.py:31: DeprecationWarning: scipy.interp is deprecated and will be removed in SciPy 2.0.0, use numpy.interp instead\n",
      "  tprs.append(interp(mean_fpr, fpr, tpr))\n",
      "C:\\Users\\DLK\\AppData\\Local\\Temp\\ipykernel_3824\\3993714666.py:31: DeprecationWarning: scipy.interp is deprecated and will be removed in SciPy 2.0.0, use numpy.interp instead\n",
      "  tprs.append(interp(mean_fpr, fpr, tpr))\n",
      "C:\\Users\\DLK\\AppData\\Local\\Temp\\ipykernel_3824\\3993714666.py:31: DeprecationWarning: scipy.interp is deprecated and will be removed in SciPy 2.0.0, use numpy.interp instead\n",
      "  tprs.append(interp(mean_fpr, fpr, tpr))\n",
      "C:\\Users\\DLK\\AppData\\Local\\Temp\\ipykernel_3824\\3993714666.py:31: DeprecationWarning: scipy.interp is deprecated and will be removed in SciPy 2.0.0, use numpy.interp instead\n",
      "  tprs.append(interp(mean_fpr, fpr, tpr))\n",
      "C:\\Users\\DLK\\AppData\\Local\\Temp\\ipykernel_3824\\3993714666.py:31: DeprecationWarning: scipy.interp is deprecated and will be removed in SciPy 2.0.0, use numpy.interp instead\n",
      "  tprs.append(interp(mean_fpr, fpr, tpr))\n"
     ]
    },
    {
     "data": {
      "image/png": "[encoded data removed]",
      "text/plain": [
       "<Figure size 432x288 with 1 Axes>"
      ]
     },
     "metadata": {
      "needs_background": "light"
     },
     "output_type": "display_data"
    }
   ],
   "source": [
    "folds = 5\n",
    "cv = StratifiedKFold(n_splits=folds)\n",
    "\n",
    "# Classifiers: \n",
    "# Decision Tree: dt\n",
    "# Decision Tree (with boosting): dt_boost\n",
    "# MLP: nn\n",
    "# Gaussian Naive Bayes: gnb\n",
    "# KNN: knn\n",
    "\n",
    "classifier = nn\n",
    "inp = Z\n",
    "\n",
    "acc = np.zeros(folds)\n",
    "confm = np.zeros((2, 2))\n",
    "\n",
    "tprs = []\n",
    "aucs = []\n",
    "mean_fpr = np.linspace(0, 1, 100)\n",
    "\n",
    "i = 0\n",
    "for train, test in cv.split(inp, y):\n",
    "    probas_ = classifier.fit(inp[train], y[train]).predict_proba(inp[test])\n",
    "    # Compute accuracy\n",
    "    y_pred = classifier.predict(inp[test])\n",
    "    acc[i] = (y_pred == y[test]).mean()\n",
    "    # Confusion matrix\n",
    "    confm = confm + confusion_matrix(y[test], y_pred)\n",
    "    # Compute ROC curve and area the curve\n",
    "    fpr, tpr, thresholds = roc_curve(y[test], probas_[:, 1])\n",
    "    tprs.append(interp(mean_fpr, fpr, tpr))\n",
    "    tprs[-1][0] = 0.0\n",
    "    roc_auc = auc(fpr, tpr)\n",
    "    aucs.append(roc_auc)\n",
    "    plt.plot(fpr, tpr, lw=1, alpha=0.3,\n",
    "             label='ROC fold %d (AUC = %0.2f)' % (i, roc_auc))\n",
    "\n",
    "    i += 1\n",
    "plt.plot([0, 1], [0, 1], linestyle='--', lw=2, color='r',\n",
    "         label='Chance', alpha=.8)\n",
    "\n",
    "mean_tpr = np.mean(tprs, axis=0)\n",
    "mean_tpr[-1] = 1.0\n",
    "mean_auc = auc(mean_fpr, mean_tpr)\n",
    "std_auc = np.std(aucs)\n",
    "plt.plot(mean_fpr, mean_tpr, color='b',\n",
    "         label=r'Mean ROC (AUC = %0.2f $\\pm$ %0.2f)' % (mean_auc, std_auc),\n",
    "         lw=2, alpha=.8)\n",
    "\n",
    "std_tpr = np.std(tprs, axis=0)\n",
    "tprs_upper = np.minimum(mean_tpr + std_tpr, 1)\n",
    "tprs_lower = np.maximum(mean_tpr - std_tpr, 0)\n",
    "plt.fill_between(mean_fpr, tprs_lower, tprs_upper, color='grey', alpha=.2,\n",
    "                 label=r'$\\pm$ 1 std. dev.')\n",
    "\n",
    "plt.xlim([-0.05, 1.05])\n",
    "plt.ylim([-0.05, 1.05])\n",
    "plt.xlabel('False Positive Rate')\n",
    "plt.ylabel('True Positive Rate')\n",
    "plt.title('Receiver operating characteristic')\n",
    "plt.legend(loc=\"lower right\")\n",
    "plt.show()\n"
   ]
  },
  {
   "cell_type": "code",
   "execution_count": 11,
   "metadata": {},
   "outputs": [
    {
     "data": {
      "text/plain": [
       "'82.41% +- 2.96%'"
      ]
     },
     "execution_count": 11,
     "metadata": {},
     "output_type": "execute_result"
    }
   ],
   "source": [
    "'{:.2f}% +- {:.2f}%'.format(acc.mean() * 100, acc.std() * 100) "
   ]
  },
  {
   "cell_type": "code",
   "execution_count": 12,
   "metadata": {},
   "outputs": [],
   "source": [
    "cm = np.zeros((3,3))"
   ]
  },
  {
   "cell_type": "code",
   "execution_count": 13,
   "metadata": {},
   "outputs": [],
   "source": [
    "cm[0:2, 0:2] = confm\n",
    "cm[0,2] = (cm[0,0] / cm[0,0:2].sum())* 100\n",
    "cm[1,2] = (cm[1,1] / cm[1,0:2].sum())* 100\n",
    "cm[2,0] = (cm[0,0] / cm[0:2,0].sum())* 100\n",
    "cm[2,1] = (cm[1,1] / cm[0:2,1].sum())* 100"
   ]
  },
  {
   "cell_type": "code",
   "execution_count": 14,
   "metadata": {},
   "outputs": [
    {
     "data": {
      "text/html": [
       "<table>\n",
       "<tbody>\n",
       "<tr><td style=\"text-align: right;\">116    </td><td style=\"text-align: right;\"> 76    </td><td style=\"text-align: right;\">60.4167</td></tr>\n",
       "<tr><td style=\"text-align: right;\"> 57    </td><td style=\"text-align: right;\">507    </td><td style=\"text-align: right;\">89.8936</td></tr>\n",
       "<tr><td style=\"text-align: right;\"> 67.052</td><td style=\"text-align: right;\"> 86.964</td><td style=\"text-align: right;\"> 0     </td></tr>\n",
       "</tbody>\n",
       "</table>"
      ],
      "text/plain": [
       "<IPython.core.display.HTML object>"
      ]
     },
     "metadata": {},
     "output_type": "display_data"
    }
   ],
   "source": [
    "display(HTML(tabulate.tabulate(cm, tablefmt='html')))"
   ]
  },
  {
   "cell_type": "code",
   "execution_count": null,
   "metadata": {},
   "outputs": [],
   "source": []
  },
  {
   "cell_type": "code",
   "execution_count": null,
   "metadata": {},
   "outputs": [],
   "source": []
  },
  {
   "cell_type": "code",
   "execution_count": null,
   "metadata": {},
   "outputs": [],
   "source": []
  }
 ],
 "metadata": {
  "kernelspec": {
   "display_name": "Python 3 (ipykernel)",
   "language": "python",
   "name": "python3"
  },
  "language_info": {
   "codemirror_mode": {
    "name": "ipython",
    "version": 3
   },
   "file_extension": ".py",
   "mimetype": "text/x-python",
   "name": "python",
   "nbconvert_exporter": "python",
   "pygments_lexer": "ipython3",
   "version": "3.9.12"
  }
 },
 "nbformat": 4,
 "nbformat_minor": 2
}
